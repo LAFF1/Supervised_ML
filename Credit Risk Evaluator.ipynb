{
 "cells": [
  {
   "cell_type": "markdown",
   "metadata": {},
   "source": [
    "## Evaluate Models\n",
    "\n",
    "I believe Logistical regression will be the superior model based on initial research and the number of features being evaluated. "
   ]
  },
  {
   "cell_type": "code",
   "execution_count": 1,
   "metadata": {},
   "outputs": [],
   "source": [
    "%matplotlib inline\n",
    "from matplotlib import pyplot as plt\n",
    "import numpy as np\n",
    "import pandas as pd\n",
    "from pathlib import Path\n",
    "from sklearn.model_selection import train_test_split\n",
    "from sklearn.linear_model import LogisticRegression\n",
    "from sklearn.linear_model import LinearRegression, Ridge, Lasso, ElasticNet\n",
    "from sklearn.preprocessing import StandardScaler, MinMaxScaler, MaxAbsScaler, RobustScaler\n",
    "from sklearn.neighbors import KNeighborsRegressor\n",
    "from sklearn.ensemble import RandomForestRegressor, ExtraTreesRegressor, AdaBoostRegressor\n",
    "from sklearn.ensemble import RandomForestClassifier, ExtraTreesClassifier, AdaBoostClassifier\n",
    "from sklearn.model_selection import cross_validate\n",
    "from sklearn.metrics import classification_report, confusion_matrix\n",
    "from sklearn.metrics import accuracy_score\n",
    "import warnings\n",
    "warnings.filterwarnings('ignore')"
   ]
  },
  {
   "cell_type": "markdown",
   "metadata": {},
   "source": [
    "#### Set up vairiables to be used in Fit Determination Function "
   ]
  },
  {
   "cell_type": "code",
   "execution_count": 2,
   "metadata": {},
   "outputs": [],
   "source": [
    "index = []\n",
    "scores = {'Train Score': [], \"Test Score\": [], 'Test Train Difference': [], 'Scaler': []}\n",
    "scalers = [\"none\", StandardScaler(), MinMaxScaler(), MaxAbsScaler(), RobustScaler()]\n",
    "models = [LinearRegression(),\n",
    "          LogisticRegression(),\n",
    "          KNeighborsRegressor(),\n",
    "          RandomForestRegressor(),\n",
    "          RandomForestClassifier(),\n",
    "          ExtraTreesRegressor(),\n",
    "          ExtraTreesClassifier(),\n",
    "          AdaBoostRegressor(),\n",
    "          AdaBoostClassifier()]"
   ]
  },
  {
   "cell_type": "markdown",
   "metadata": {},
   "source": [
    "#### Define Function to Test Models and Scalers"
   ]
  },
  {
   "cell_type": "code",
   "execution_count": 3,
   "metadata": {},
   "outputs": [],
   "source": [
    "def test_model(data):\n",
    "    for scaler in scalers:\n",
    "        global index\n",
    "        global scores\n",
    "        if scaler != \"none\":\n",
    "            scaler.fit(X_train)\n",
    "            X_train_scaled = scaler.transform(X_train)\n",
    "            X_test_scaled = scaler.transform(X_test)\n",
    "        else:\n",
    "            X_train_scaled = X_train\n",
    "            X_test_scaled = X_test\n",
    "        data = X_train_scaled, X_test_scaled, y_train, y_test\n",
    "        for model in models:\n",
    "            reg = model.fit(X_train_scaled, y_train)\n",
    "            y_pred = reg.predict(X_test_scaled)\n",
    "            scores[\"Train Score\"].append(reg.score(X_train_scaled, y_train))\n",
    "            scores[\"Test Score\"].append(reg.score(X_test_scaled, y_test))\n",
    "            scores[\"Test Train Difference\"].append((reg.score(X_train_scaled, y_train)-(reg.score(X_test_scaled, y_test))))\n",
    "            scores[\"Scaler\"].append(scaler)\n",
    "            index += [type(reg).__name__]\n"
   ]
  },
  {
   "cell_type": "markdown",
   "metadata": {},
   "source": [
    "#### Get data and evaluate readiness for model\n",
    "    * Find features and target \n",
    "    * Test for imbalance "
   ]
  },
  {
   "cell_type": "code",
   "execution_count": 4,
   "metadata": {},
   "outputs": [
    {
     "data": {
      "text/html": [
       "<div>\n",
       "<style scoped>\n",
       "    .dataframe tbody tr th:only-of-type {\n",
       "        vertical-align: middle;\n",
       "    }\n",
       "\n",
       "    .dataframe tbody tr th {\n",
       "        vertical-align: top;\n",
       "    }\n",
       "\n",
       "    .dataframe thead th {\n",
       "        text-align: right;\n",
       "    }\n",
       "</style>\n",
       "<table border=\"1\" class=\"dataframe\">\n",
       "  <thead>\n",
       "    <tr style=\"text-align: right;\">\n",
       "      <th></th>\n",
       "      <th>loan_size</th>\n",
       "      <th>interest_rate</th>\n",
       "      <th>borrower_income</th>\n",
       "      <th>debt_to_income</th>\n",
       "      <th>num_of_accounts</th>\n",
       "      <th>derogatory_marks</th>\n",
       "      <th>total_debt</th>\n",
       "      <th>loan_status</th>\n",
       "    </tr>\n",
       "  </thead>\n",
       "  <tbody>\n",
       "    <tr>\n",
       "      <th>0</th>\n",
       "      <td>10700.0</td>\n",
       "      <td>7.672</td>\n",
       "      <td>52800</td>\n",
       "      <td>0.431818</td>\n",
       "      <td>5</td>\n",
       "      <td>1</td>\n",
       "      <td>22800</td>\n",
       "      <td>0</td>\n",
       "    </tr>\n",
       "    <tr>\n",
       "      <th>1</th>\n",
       "      <td>8400.0</td>\n",
       "      <td>6.692</td>\n",
       "      <td>43600</td>\n",
       "      <td>0.311927</td>\n",
       "      <td>3</td>\n",
       "      <td>0</td>\n",
       "      <td>13600</td>\n",
       "      <td>0</td>\n",
       "    </tr>\n",
       "    <tr>\n",
       "      <th>2</th>\n",
       "      <td>9000.0</td>\n",
       "      <td>6.963</td>\n",
       "      <td>46100</td>\n",
       "      <td>0.349241</td>\n",
       "      <td>3</td>\n",
       "      <td>0</td>\n",
       "      <td>16100</td>\n",
       "      <td>0</td>\n",
       "    </tr>\n",
       "    <tr>\n",
       "      <th>3</th>\n",
       "      <td>10700.0</td>\n",
       "      <td>7.664</td>\n",
       "      <td>52700</td>\n",
       "      <td>0.430740</td>\n",
       "      <td>5</td>\n",
       "      <td>1</td>\n",
       "      <td>22700</td>\n",
       "      <td>0</td>\n",
       "    </tr>\n",
       "    <tr>\n",
       "      <th>4</th>\n",
       "      <td>10800.0</td>\n",
       "      <td>7.698</td>\n",
       "      <td>53000</td>\n",
       "      <td>0.433962</td>\n",
       "      <td>5</td>\n",
       "      <td>1</td>\n",
       "      <td>23000</td>\n",
       "      <td>0</td>\n",
       "    </tr>\n",
       "  </tbody>\n",
       "</table>\n",
       "</div>"
      ],
      "text/plain": [
       "   loan_size  interest_rate  borrower_income  debt_to_income  num_of_accounts  \\\n",
       "0    10700.0          7.672            52800        0.431818                5   \n",
       "1     8400.0          6.692            43600        0.311927                3   \n",
       "2     9000.0          6.963            46100        0.349241                3   \n",
       "3    10700.0          7.664            52700        0.430740                5   \n",
       "4    10800.0          7.698            53000        0.433962                5   \n",
       "\n",
       "   derogatory_marks  total_debt  loan_status  \n",
       "0                 1       22800            0  \n",
       "1                 0       13600            0  \n",
       "2                 0       16100            0  \n",
       "3                 1       22700            0  \n",
       "4                 1       23000            0  "
      ]
     },
     "execution_count": 4,
     "metadata": {},
     "output_type": "execute_result"
    }
   ],
   "source": [
    "# Import the data\n",
    "file_path = Path(\"Resources/lending_data.csv\")\n",
    "df = pd.read_csv(file_path)\n",
    "df.head()"
   ]
  },
  {
   "cell_type": "code",
   "execution_count": 5,
   "metadata": {},
   "outputs": [
    {
     "data": {
      "text/plain": [
       "0    75036\n",
       "1     2500\n",
       "Name: loan_status, dtype: int64"
      ]
     },
     "execution_count": 5,
     "metadata": {},
     "output_type": "execute_result"
    }
   ],
   "source": [
    "# Check the number of occurrences per target value. The classes are unbalanced.\n",
    "df[\"loan_status\"].value_counts()"
   ]
  },
  {
   "cell_type": "markdown",
   "metadata": {},
   "source": [
    "#### Create X and Y | Reshape the data "
   ]
  },
  {
   "cell_type": "code",
   "execution_count": 6,
   "metadata": {},
   "outputs": [
    {
     "name": "stdout",
     "output_type": "stream",
     "text": [
      "Shape:  (77536, 7) (77536,)\n"
     ]
    }
   ],
   "source": [
    "# Create X (features) and y (target) sets\n",
    "X = df.drop(\"loan_status\", axis=1)\n",
    "y = df[\"loan_status\"].values\n",
    "print(\"Shape: \", X.shape, y.shape)"
   ]
  },
  {
   "cell_type": "code",
   "execution_count": 7,
   "metadata": {},
   "outputs": [],
   "source": [
    "# Visualizations used in testing \n",
    "# for col in X.columns:\n",
    "#     print(col)\n",
    "#     plt.scatter(X[col], y)\n",
    "#     plt.show()\n",
    "# reg = LinearRegression().fit(X_train, y_train)\n",
    "# print(reg.coef_)\n",
    "# plt.bar(X.columns, reg.coef_)\n",
    "# plt.show()\n",
    "# reg = Lasso(max_iter=10000).fit(X_train, y_train)\n",
    "# print(reg.coef_)\n",
    "# plt.bar(X.columns, reg.coef_)\n",
    "# plt.show()"
   ]
  },
  {
   "cell_type": "markdown",
   "metadata": {},
   "source": [
    "#### Split data into Training and Testing sets "
   ]
  },
  {
   "cell_type": "code",
   "execution_count": 8,
   "metadata": {},
   "outputs": [],
   "source": [
    "# Split the data into training and testing sets\n",
    "data = X_train, X_test, y_train, y_test = train_test_split(X, y, random_state= 42)"
   ]
  },
  {
   "cell_type": "markdown",
   "metadata": {},
   "source": [
    "#### Get to know our data"
   ]
  },
  {
   "cell_type": "code",
   "execution_count": 9,
   "metadata": {},
   "outputs": [
    {
     "name": "stdout",
     "output_type": "stream",
     "text": [
      "Training Data Score: 0.9329481119643341\n",
      "Testing Data Score: 0.7828022948485541\n",
      "[5.71449357e-02 6.37085662e-01 1.22617613e-01 7.82168188e-02\n",
      " 4.66310909e-04 4.11105228e-05 1.04427549e-01]\n"
     ]
    },
    {
     "data": {
      "image/png": "[encoded data removed]",
      "text/plain": [
       "<Figure size 432x288 with 1 Axes>"
      ]
     },
     "metadata": {
      "needs_background": "light"
     },
     "output_type": "display_data"
    }
   ],
   "source": [
    "# setting Random forest as sample to view data \n",
    "classifier = RandomForestRegressor()\n",
    "clf = classifier.fit(X_train, y_train)\n",
    "print(f\"Training Data Score: {classifier.score(X_train, y_train)}\")\n",
    "print(f\"Testing Data Score: {classifier.score(X_test, y_test)}\")\n",
    "\n",
    "features = clf.feature_importances_\n",
    "print(features)\n",
    "plt.bar(x = range(len(features)), height=features)\n",
    "plt.show()"
   ]
  },
  {
   "cell_type": "code",
   "execution_count": 10,
   "metadata": {},
   "outputs": [
    {
     "data": {
      "image/png": "[encoded data removed]",
      "text/plain": [
       "<Figure size 720x360 with 1 Axes>"
      ]
     },
     "metadata": {
      "needs_background": "light"
     },
     "output_type": "display_data"
    }
   ],
   "source": [
    "features = sorted(zip(X.columns, clf.feature_importances_), key = lambda x: x[1])\n",
    "cols = [f[0] for f in features]\n",
    "width = [f[1] for f in features]\n",
    "\n",
    "fig, ax = plt.subplots()\n",
    "fig.set_size_inches(10,5)\n",
    "plt.margins(y=0.001)\n",
    "\n",
    "ax.barh(y=cols, width=width)\n",
    "\n",
    "plt.show()"
   ]
  },
  {
   "cell_type": "code",
   "execution_count": 11,
   "metadata": {},
   "outputs": [
    {
     "name": "stdout",
     "output_type": "stream",
     "text": [
      "Frequency of unique values in y_train:\n",
      "[[    0     1]\n",
      " [56244  1908]]\n"
     ]
    }
   ],
   "source": [
    "# Check the number of occurrences per target value in the training data\n",
    "unique_elements_train, counts_elements_train = np.unique(y_train, return_counts=True)\n",
    "print(\"Frequency of unique values in y_train:\")\n",
    "print(np.asarray((unique_elements_train, counts_elements_train)))"
   ]
  },
  {
   "cell_type": "markdown",
   "metadata": {},
   "source": [
    "#### Check model/scaler combos for best fit"
   ]
  },
  {
   "cell_type": "code",
   "execution_count": 12,
   "metadata": {},
   "outputs": [],
   "source": [
    "# call function test_model to test all models being considered\n",
    "test_model(data)"
   ]
  },
  {
   "cell_type": "markdown",
   "metadata": {},
   "source": [
    "#### Let's look at our Scaler and Model Results "
   ]
  },
  {
   "cell_type": "code",
   "execution_count": 13,
   "metadata": {},
   "outputs": [
    {
     "data": {
      "text/html": [
       "<div>\n",
       "<style scoped>\n",
       "    .dataframe tbody tr th:only-of-type {\n",
       "        vertical-align: middle;\n",
       "    }\n",
       "\n",
       "    .dataframe tbody tr th {\n",
       "        vertical-align: top;\n",
       "    }\n",
       "\n",
       "    .dataframe thead th {\n",
       "        text-align: right;\n",
       "    }\n",
       "</style>\n",
       "<table border=\"1\" class=\"dataframe\">\n",
       "  <thead>\n",
       "    <tr style=\"text-align: right;\">\n",
       "      <th></th>\n",
       "      <th>Train Score</th>\n",
       "      <th>Test Score</th>\n",
       "      <th>Test Train Difference</th>\n",
       "      <th>Scaler</th>\n",
       "    </tr>\n",
       "  </thead>\n",
       "  <tbody>\n",
       "    <tr>\n",
       "      <th>RandomForestClassifier</th>\n",
       "      <td>0.997197</td>\n",
       "      <td>0.991849</td>\n",
       "      <td>0.005348</td>\n",
       "      <td>MinMaxScaler()</td>\n",
       "    </tr>\n",
       "    <tr>\n",
       "      <th>RandomForestClassifier</th>\n",
       "      <td>0.997197</td>\n",
       "      <td>0.991901</td>\n",
       "      <td>0.005296</td>\n",
       "      <td>StandardScaler()</td>\n",
       "    </tr>\n",
       "    <tr>\n",
       "      <th>ExtraTreesClassifier</th>\n",
       "      <td>0.997197</td>\n",
       "      <td>0.991230</td>\n",
       "      <td>0.005967</td>\n",
       "      <td>RobustScaler()</td>\n",
       "    </tr>\n",
       "    <tr>\n",
       "      <th>RandomForestClassifier</th>\n",
       "      <td>0.997197</td>\n",
       "      <td>0.992004</td>\n",
       "      <td>0.005193</td>\n",
       "      <td>none</td>\n",
       "    </tr>\n",
       "    <tr>\n",
       "      <th>ExtraTreesClassifier</th>\n",
       "      <td>0.997197</td>\n",
       "      <td>0.991333</td>\n",
       "      <td>0.005864</td>\n",
       "      <td>none</td>\n",
       "    </tr>\n",
       "    <tr>\n",
       "      <th>ExtraTreesClassifier</th>\n",
       "      <td>0.997197</td>\n",
       "      <td>0.991230</td>\n",
       "      <td>0.005967</td>\n",
       "      <td>MaxAbsScaler()</td>\n",
       "    </tr>\n",
       "    <tr>\n",
       "      <th>RandomForestClassifier</th>\n",
       "      <td>0.997197</td>\n",
       "      <td>0.992313</td>\n",
       "      <td>0.004884</td>\n",
       "      <td>MaxAbsScaler()</td>\n",
       "    </tr>\n",
       "    <tr>\n",
       "      <th>ExtraTreesClassifier</th>\n",
       "      <td>0.997197</td>\n",
       "      <td>0.991024</td>\n",
       "      <td>0.006173</td>\n",
       "      <td>MinMaxScaler()</td>\n",
       "    </tr>\n",
       "    <tr>\n",
       "      <th>ExtraTreesClassifier</th>\n",
       "      <td>0.997197</td>\n",
       "      <td>0.991178</td>\n",
       "      <td>0.006019</td>\n",
       "      <td>StandardScaler()</td>\n",
       "    </tr>\n",
       "    <tr>\n",
       "      <th>RandomForestClassifier</th>\n",
       "      <td>0.997163</td>\n",
       "      <td>0.991952</td>\n",
       "      <td>0.005210</td>\n",
       "      <td>RobustScaler()</td>\n",
       "    </tr>\n",
       "  </tbody>\n",
       "</table>\n",
       "</div>"
      ],
      "text/plain": [
       "                        Train Score  Test Score  Test Train Difference  \\\n",
       "RandomForestClassifier     0.997197    0.991849               0.005348   \n",
       "RandomForestClassifier     0.997197    0.991901               0.005296   \n",
       "ExtraTreesClassifier       0.997197    0.991230               0.005967   \n",
       "RandomForestClassifier     0.997197    0.992004               0.005193   \n",
       "ExtraTreesClassifier       0.997197    0.991333               0.005864   \n",
       "ExtraTreesClassifier       0.997197    0.991230               0.005967   \n",
       "RandomForestClassifier     0.997197    0.992313               0.004884   \n",
       "ExtraTreesClassifier       0.997197    0.991024               0.006173   \n",
       "ExtraTreesClassifier       0.997197    0.991178               0.006019   \n",
       "RandomForestClassifier     0.997163    0.991952               0.005210   \n",
       "\n",
       "                                  Scaler  \n",
       "RandomForestClassifier    MinMaxScaler()  \n",
       "RandomForestClassifier  StandardScaler()  \n",
       "ExtraTreesClassifier      RobustScaler()  \n",
       "RandomForestClassifier              none  \n",
       "ExtraTreesClassifier                none  \n",
       "ExtraTreesClassifier      MaxAbsScaler()  \n",
       "RandomForestClassifier    MaxAbsScaler()  \n",
       "ExtraTreesClassifier      MinMaxScaler()  \n",
       "ExtraTreesClassifier    StandardScaler()  \n",
       "RandomForestClassifier    RobustScaler()  "
      ]
     },
     "execution_count": 13,
     "metadata": {},
     "output_type": "execute_result"
    }
   ],
   "source": [
    "# Print by Training Score\n",
    "df_scores = pd.DataFrame(scores, index=index)\n",
    "df_scores.sort_values('Train Score', ascending=False).head(10)"
   ]
  },
  {
   "cell_type": "code",
   "execution_count": 14,
   "metadata": {},
   "outputs": [
    {
     "data": {
      "text/html": [
       "<div>\n",
       "<style scoped>\n",
       "    .dataframe tbody tr th:only-of-type {\n",
       "        vertical-align: middle;\n",
       "    }\n",
       "\n",
       "    .dataframe tbody tr th {\n",
       "        vertical-align: top;\n",
       "    }\n",
       "\n",
       "    .dataframe thead th {\n",
       "        text-align: right;\n",
       "    }\n",
       "</style>\n",
       "<table border=\"1\" class=\"dataframe\">\n",
       "  <thead>\n",
       "    <tr style=\"text-align: right;\">\n",
       "      <th></th>\n",
       "      <th>Train Score</th>\n",
       "      <th>Test Score</th>\n",
       "      <th>Test Train Difference</th>\n",
       "      <th>Scaler</th>\n",
       "    </tr>\n",
       "  </thead>\n",
       "  <tbody>\n",
       "    <tr>\n",
       "      <th>AdaBoostClassifier</th>\n",
       "      <td>0.994411</td>\n",
       "      <td>0.994480</td>\n",
       "      <td>-0.000069</td>\n",
       "      <td>RobustScaler()</td>\n",
       "    </tr>\n",
       "    <tr>\n",
       "      <th>AdaBoostClassifier</th>\n",
       "      <td>0.994411</td>\n",
       "      <td>0.994480</td>\n",
       "      <td>-0.000069</td>\n",
       "      <td>StandardScaler()</td>\n",
       "    </tr>\n",
       "    <tr>\n",
       "      <th>AdaBoostClassifier</th>\n",
       "      <td>0.994411</td>\n",
       "      <td>0.994480</td>\n",
       "      <td>-0.000069</td>\n",
       "      <td>MaxAbsScaler()</td>\n",
       "    </tr>\n",
       "    <tr>\n",
       "      <th>AdaBoostClassifier</th>\n",
       "      <td>0.994411</td>\n",
       "      <td>0.994480</td>\n",
       "      <td>-0.000069</td>\n",
       "      <td>none</td>\n",
       "    </tr>\n",
       "    <tr>\n",
       "      <th>AdaBoostClassifier</th>\n",
       "      <td>0.994411</td>\n",
       "      <td>0.994480</td>\n",
       "      <td>-0.000069</td>\n",
       "      <td>MinMaxScaler()</td>\n",
       "    </tr>\n",
       "    <tr>\n",
       "      <th>LogisticRegression</th>\n",
       "      <td>0.994119</td>\n",
       "      <td>0.994170</td>\n",
       "      <td>-0.000052</td>\n",
       "      <td>RobustScaler()</td>\n",
       "    </tr>\n",
       "    <tr>\n",
       "      <th>LogisticRegression</th>\n",
       "      <td>0.994119</td>\n",
       "      <td>0.994170</td>\n",
       "      <td>-0.000052</td>\n",
       "      <td>StandardScaler()</td>\n",
       "    </tr>\n",
       "    <tr>\n",
       "      <th>LogisticRegression</th>\n",
       "      <td>0.992760</td>\n",
       "      <td>0.993087</td>\n",
       "      <td>-0.000327</td>\n",
       "      <td>MaxAbsScaler()</td>\n",
       "    </tr>\n",
       "    <tr>\n",
       "      <th>LogisticRegression</th>\n",
       "      <td>0.992760</td>\n",
       "      <td>0.993087</td>\n",
       "      <td>-0.000327</td>\n",
       "      <td>MinMaxScaler()</td>\n",
       "    </tr>\n",
       "    <tr>\n",
       "      <th>LogisticRegression</th>\n",
       "      <td>0.991918</td>\n",
       "      <td>0.992468</td>\n",
       "      <td>-0.000550</td>\n",
       "      <td>none</td>\n",
       "    </tr>\n",
       "  </tbody>\n",
       "</table>\n",
       "</div>"
      ],
      "text/plain": [
       "                    Train Score  Test Score  Test Train Difference  \\\n",
       "AdaBoostClassifier     0.994411    0.994480              -0.000069   \n",
       "AdaBoostClassifier     0.994411    0.994480              -0.000069   \n",
       "AdaBoostClassifier     0.994411    0.994480              -0.000069   \n",
       "AdaBoostClassifier     0.994411    0.994480              -0.000069   \n",
       "AdaBoostClassifier     0.994411    0.994480              -0.000069   \n",
       "LogisticRegression     0.994119    0.994170              -0.000052   \n",
       "LogisticRegression     0.994119    0.994170              -0.000052   \n",
       "LogisticRegression     0.992760    0.993087              -0.000327   \n",
       "LogisticRegression     0.992760    0.993087              -0.000327   \n",
       "LogisticRegression     0.991918    0.992468              -0.000550   \n",
       "\n",
       "                              Scaler  \n",
       "AdaBoostClassifier    RobustScaler()  \n",
       "AdaBoostClassifier  StandardScaler()  \n",
       "AdaBoostClassifier    MaxAbsScaler()  \n",
       "AdaBoostClassifier              none  \n",
       "AdaBoostClassifier    MinMaxScaler()  \n",
       "LogisticRegression    RobustScaler()  \n",
       "LogisticRegression  StandardScaler()  \n",
       "LogisticRegression    MaxAbsScaler()  \n",
       "LogisticRegression    MinMaxScaler()  \n",
       "LogisticRegression              none  "
      ]
     },
     "execution_count": 14,
     "metadata": {},
     "output_type": "execute_result"
    }
   ],
   "source": [
    "# Print by Testing Score\n",
    "df_scores.sort_values('Test Score', ascending=False).head(10)"
   ]
  },
  {
   "cell_type": "code",
   "execution_count": 15,
   "metadata": {},
   "outputs": [
    {
     "data": {
      "text/html": [
       "<div>\n",
       "<style scoped>\n",
       "    .dataframe tbody tr th:only-of-type {\n",
       "        vertical-align: middle;\n",
       "    }\n",
       "\n",
       "    .dataframe tbody tr th {\n",
       "        vertical-align: top;\n",
       "    }\n",
       "\n",
       "    .dataframe thead th {\n",
       "        text-align: right;\n",
       "    }\n",
       "</style>\n",
       "<table border=\"1\" class=\"dataframe\">\n",
       "  <thead>\n",
       "    <tr style=\"text-align: right;\">\n",
       "      <th></th>\n",
       "      <th>Train Score</th>\n",
       "      <th>Test Score</th>\n",
       "      <th>Test Train Difference</th>\n",
       "      <th>Scaler</th>\n",
       "      <th>Test Train Magnitude</th>\n",
       "    </tr>\n",
       "  </thead>\n",
       "  <tbody>\n",
       "    <tr>\n",
       "      <th>LogisticRegression</th>\n",
       "      <td>0.994119</td>\n",
       "      <td>0.994170</td>\n",
       "      <td>-0.000052</td>\n",
       "      <td>RobustScaler()</td>\n",
       "      <td>0.000052</td>\n",
       "    </tr>\n",
       "    <tr>\n",
       "      <th>LogisticRegression</th>\n",
       "      <td>0.994119</td>\n",
       "      <td>0.994170</td>\n",
       "      <td>-0.000052</td>\n",
       "      <td>StandardScaler()</td>\n",
       "      <td>0.000052</td>\n",
       "    </tr>\n",
       "    <tr>\n",
       "      <th>AdaBoostClassifier</th>\n",
       "      <td>0.994411</td>\n",
       "      <td>0.994480</td>\n",
       "      <td>-0.000069</td>\n",
       "      <td>RobustScaler()</td>\n",
       "      <td>0.000069</td>\n",
       "    </tr>\n",
       "    <tr>\n",
       "      <th>AdaBoostClassifier</th>\n",
       "      <td>0.994411</td>\n",
       "      <td>0.994480</td>\n",
       "      <td>-0.000069</td>\n",
       "      <td>MaxAbsScaler()</td>\n",
       "      <td>0.000069</td>\n",
       "    </tr>\n",
       "    <tr>\n",
       "      <th>AdaBoostClassifier</th>\n",
       "      <td>0.994411</td>\n",
       "      <td>0.994480</td>\n",
       "      <td>-0.000069</td>\n",
       "      <td>none</td>\n",
       "      <td>0.000069</td>\n",
       "    </tr>\n",
       "    <tr>\n",
       "      <th>AdaBoostClassifier</th>\n",
       "      <td>0.994411</td>\n",
       "      <td>0.994480</td>\n",
       "      <td>-0.000069</td>\n",
       "      <td>MinMaxScaler()</td>\n",
       "      <td>0.000069</td>\n",
       "    </tr>\n",
       "    <tr>\n",
       "      <th>AdaBoostClassifier</th>\n",
       "      <td>0.994411</td>\n",
       "      <td>0.994480</td>\n",
       "      <td>-0.000069</td>\n",
       "      <td>StandardScaler()</td>\n",
       "      <td>0.000069</td>\n",
       "    </tr>\n",
       "    <tr>\n",
       "      <th>LogisticRegression</th>\n",
       "      <td>0.992760</td>\n",
       "      <td>0.993087</td>\n",
       "      <td>-0.000327</td>\n",
       "      <td>MaxAbsScaler()</td>\n",
       "      <td>0.000327</td>\n",
       "    </tr>\n",
       "    <tr>\n",
       "      <th>LogisticRegression</th>\n",
       "      <td>0.992760</td>\n",
       "      <td>0.993087</td>\n",
       "      <td>-0.000327</td>\n",
       "      <td>MinMaxScaler()</td>\n",
       "      <td>0.000327</td>\n",
       "    </tr>\n",
       "    <tr>\n",
       "      <th>LogisticRegression</th>\n",
       "      <td>0.991918</td>\n",
       "      <td>0.992468</td>\n",
       "      <td>-0.000550</td>\n",
       "      <td>none</td>\n",
       "      <td>0.000550</td>\n",
       "    </tr>\n",
       "  </tbody>\n",
       "</table>\n",
       "</div>"
      ],
      "text/plain": [
       "                    Train Score  Test Score  Test Train Difference  \\\n",
       "LogisticRegression     0.994119    0.994170              -0.000052   \n",
       "LogisticRegression     0.994119    0.994170              -0.000052   \n",
       "AdaBoostClassifier     0.994411    0.994480              -0.000069   \n",
       "AdaBoostClassifier     0.994411    0.994480              -0.000069   \n",
       "AdaBoostClassifier     0.994411    0.994480              -0.000069   \n",
       "AdaBoostClassifier     0.994411    0.994480              -0.000069   \n",
       "AdaBoostClassifier     0.994411    0.994480              -0.000069   \n",
       "LogisticRegression     0.992760    0.993087              -0.000327   \n",
       "LogisticRegression     0.992760    0.993087              -0.000327   \n",
       "LogisticRegression     0.991918    0.992468              -0.000550   \n",
       "\n",
       "                              Scaler  Test Train Magnitude  \n",
       "LogisticRegression    RobustScaler()              0.000052  \n",
       "LogisticRegression  StandardScaler()              0.000052  \n",
       "AdaBoostClassifier    RobustScaler()              0.000069  \n",
       "AdaBoostClassifier    MaxAbsScaler()              0.000069  \n",
       "AdaBoostClassifier              none              0.000069  \n",
       "AdaBoostClassifier    MinMaxScaler()              0.000069  \n",
       "AdaBoostClassifier  StandardScaler()              0.000069  \n",
       "LogisticRegression    MaxAbsScaler()              0.000327  \n",
       "LogisticRegression    MinMaxScaler()              0.000327  \n",
       "LogisticRegression              none              0.000550  "
      ]
     },
     "execution_count": 15,
     "metadata": {},
     "output_type": "execute_result"
    }
   ],
   "source": [
    "# Print by Testing Score\n",
    "df_scores['Test Train Magnitude'] = abs(df_scores['Test Train Difference'])\n",
    "df_scores.sort_values('Test Train Magnitude').head(10)"
   ]
  },
  {
   "cell_type": "markdown",
   "metadata": {},
   "source": [
    "#### Fit data to our model here we are fitting it using Logistic Regression\n",
    "    For Logistic Regression the model performed better when data is scaled \n",
    "    Both the standard scaler and the robust scaler performed identically\n",
    "    The Standard scaler is being used here. \n",
    "\n",
    "<span style='color:blue '> *Score provided = 0.9908171687990095* </span>"
   ]
  },
  {
   "cell_type": "code",
   "execution_count": 16,
   "metadata": {},
   "outputs": [
    {
     "name": "stdout",
     "output_type": "stream",
     "text": [
      "\u001b[1mLogistic Regression Results Tuned\u001b[0m \n",
      "\n",
      "\u001b[32mTraining Data Score: 0.9941188609162196\u001b[0m\n",
      "\u001b[32mTesting Data Score: 0.9941704498555509\u001b[0m\n",
      "\n",
      "\u001b[1mLogistic Regression Cross Validated Test Results Balanced\u001b[0m \n",
      "\n",
      "\u001b[32mTest Score Accuracy: 0.9939123267514247\u001b[0m\n",
      "\u001b[32mTest Score Accuracy Balanced: 0.9952328767780418\u001b[0m\n",
      "\n",
      "\u001b[1mLogistic Regression Classification Report\u001b[0m \n",
      "\n",
      "\u001b[32m              precision    recall  f1-score   support\n",
      "\n",
      "         Yes       1.00      0.99      1.00     18792\n",
      "          No       0.84      1.00      0.91       592\n",
      "\n",
      "    accuracy                           0.99     19384\n",
      "   macro avg       0.92      1.00      0.95     19384\n",
      "weighted avg       0.99      0.99      0.99     19384\n",
      "\u001b[0m\n"
     ]
    }
   ],
   "source": [
    "# Scale using best scaler\n",
    "scaler = StandardScaler().fit(X_train)\n",
    "X_train_s = scaler.transform(X_train)\n",
    "X_test_s = scaler.transform(X_test)\n",
    "\n",
    "# Train a Logistic Regression model print the model score\n",
    "classifier = LogisticRegression(random_state= 42)\n",
    "classifier.fit(X_train_s, y_train)\n",
    "print(f'\\033[1mLogistic Regression Results Tuned\\033[0m \\n')\n",
    "print(f'\\u001b[32mTraining Data Score: {classifier.score(X_train_s, y_train)}\\033[0m')\n",
    "print(f'\\u001b[32mTesting Data Score: {classifier.score(X_test_s, y_test)}\\033[0m\\n')\n",
    "\n",
    "# Cross validate to see if balancing will improve our model\n",
    "scoring = [\"accuracy\", \"balanced_accuracy\"]\n",
    "clf = LogisticRegression(max_iter=1000, class_weight='balanced')\n",
    "cv_result = cross_validate(clf, X_test_s, y_test, scoring=scoring)\n",
    "print(f'\\033[1mLogistic Regression Cross Validated Test Results Balanced\\033[0m \\n')\n",
    "print(f'\\u001b[32mTest Score Accuracy: {cv_result[\"test_accuracy\"].mean()}\\033[0m')\n",
    "print(f'\\u001b[32mTest Score Accuracy Balanced: {cv_result[\"test_balanced_accuracy\"].mean()}\\033[0m\\n')\n",
    "\n",
    "# Review classification report to verify selections\n",
    "target_names = [\"Yes\", \"No\"]\n",
    "clf.fit(X_train_s, y_train)\n",
    "y_pred = clf.predict(X_test_s)\n",
    "print(f'\\033[1mLogistic Regression Classification Report\\033[0m \\n')\n",
    "print(f'\\u001b[32m{classification_report(y_test, y_pred, target_names=target_names)}\\033[0m')"
   ]
  },
  {
   "cell_type": "markdown",
   "metadata": {},
   "source": [
    "#### Fit data to our model here we are fitting it using Random Forest Regression\n",
    "    Random Forest performed equally without regard for scaling \n",
    "    No scaling was performed on the data prior to fitting \n",
    "<span style='color:blue '> *Score provided = 0.9910751134956666* </span>\n"
   ]
  },
  {
   "cell_type": "code",
   "execution_count": 17,
   "metadata": {},
   "outputs": [
    {
     "name": "stdout",
     "output_type": "stream",
     "text": [
      "\u001b[1mRandom Forest Classifier Results Tuned\u001b[0m \n",
      "\n",
      "\u001b[32mTraining Data Score: 0.9971970009629936\u001b[0m\n",
      "\u001b[32mTesting Data Score: 0.9921584812216261\u001b[0m\n",
      "\n",
      "\u001b[1mRandom Forest Classifier Results Balanced\u001b[0m \n",
      "\n",
      "\u001b[32mTest Score Accuracy: 0.9914877450647662\u001b[0m\n",
      "\u001b[32mTest Score Accuracy Balanced: 0.9391705583900599\u001b[0m\n",
      "\n",
      "\u001b[1mRandom Forest Classifier Classification Report\u001b[0m \n",
      "\n",
      "\u001b[32m              precision    recall  f1-score   support\n",
      "\n",
      "         Yes       1.00      0.99      1.00     18792\n",
      "          No       0.85      0.92      0.89       592\n",
      "\n",
      "    accuracy                           0.99     19384\n",
      "   macro avg       0.92      0.96      0.94     19384\n",
      "weighted avg       0.99      0.99      0.99     19384\n",
      "\u001b[0m\n"
     ]
    }
   ],
   "source": [
    "# Train a Random Forest Classifier model and print the model score\n",
    "classifier = RandomForestClassifier(random_state=42, n_estimators= 500)\n",
    "classifier.fit(X_train, y_train)\n",
    "print(f'\\033[1mRandom Forest Classifier Results Tuned\\033[0m \\n')\n",
    "print(f'\\u001b[32mTraining Data Score: {classifier.score(X_train, y_train)}\\033[0m')\n",
    "print(f'\\u001b[32mTesting Data Score: {classifier.score(X_test, y_test)}\\033[0m\\n')\n",
    "\n",
    "# Cross validate to see if balancing will improve our model\n",
    "scoring = [\"accuracy\", \"balanced_accuracy\"]\n",
    "clf = RandomForestClassifier(class_weight='balanced')\n",
    "cv_result = cross_validate(clf, X_test, y_test, scoring=scoring)\n",
    "print(f'\\033[1mRandom Forest Classifier Results Balanced\\033[0m \\n')\n",
    "print(f'\\u001b[32mTest Score Accuracy: {cv_result[\"test_accuracy\"].mean()}\\033[0m')\n",
    "print(f'\\u001b[32mTest Score Accuracy Balanced: {cv_result[\"test_balanced_accuracy\"].mean()}\\033[0m\\n')\n",
    "\n",
    "# Review classification report to verify selections\n",
    "target_names = [\"Yes\", \"No\"]\n",
    "clf.fit(X_train, y_train)\n",
    "y_pred = clf.predict(X_test)\n",
    "print(f'\\033[1mRandom Forest Classifier Classification Report\\033[0m \\n')\n",
    "print(f'\\u001b[32m{classification_report(y_test, y_pred, target_names=target_names)}\\033[0m')"
   ]
  },
  {
   "cell_type": "markdown",
   "metadata": {},
   "source": [
    "### Conclusion\n",
    "The initial prediction may be incorrect as the Random Forest Classifier produced better training scores and only slightly lower testing scores.\n",
    "When we look at testing scores Logistic Regression performs better than Random Forest Classifier in all of its' variations. \n",
    "While Balancing improved the Logistic Regression model, predictably it did not improve the Random Forest Model. \n",
    "The Random Forest classifier produced identical results with and without scaling of any type. The Logistic regression model produced its best results when scaled by the standard scaler and the robust scaler, its results were improved again by balancing the data. \n",
    "None of the tested models appear to be experiencing overfitting, as a result no reduction in features were employed. \n",
    "The Random forest classifier model saw significant degredation when the data was balanced. \n",
    "When we look at the magnitude of the change between training and testing it appears that the initial prediction wins, Logistic regression experiences the lowest magnitude of change experienced between training and testing. \n",
    "The classification report(s) support these conclusions. "
   ]
  },
  {
   "cell_type": "raw",
   "metadata": {},
   "source": [
    "Notes for determiniation of n_estimators best value \n",
    "Three possible values are shown below\n",
    "values greater than 500 were tested but result in no\n",
    "change from the results of 500. \n",
    "n_estimators=500 was chosen. \n",
    "\n",
    "Random Forest Classifier Results Tuned (500) \n",
    "\n",
    "Training Data Score: 0.9971970009629936\n",
    "Testing Data Score: 0.9921584812216261\n",
    "\n",
    "Random Forest Classifier Results Balanced \n",
    "\n",
    "Training Score Balanced: 0.9921842696981313\n",
    "Test Score Balanced: 0.9536212376264211\n",
    "\n",
    "Random Forest Classifier Classification Report \n",
    "\n",
    "              precision    recall  f1-score   support\n",
    "\n",
    "         Yes       1.00      0.99      1.00     18792\n",
    "          No       0.85      0.92      0.89       592\n",
    "\n",
    "    accuracy                           0.99     19384\n",
    "   macro avg       0.92      0.96      0.94     19384\n",
    "weighted avg       0.99      0.99      0.99     19384\n",
    "\n",
    "Random Forest Classifier Results Tuned (250)\n",
    "\n",
    "Training Data Score: 0.9971970009629936\n",
    "Testing Data Score: 0.9921068922822947\n",
    "\n",
    "Random Forest Classifier Results Balanced \n",
    "\n",
    "Training Score Balanced: 0.9921971662676439\n",
    "Test Score Balanced: 0.9536279007394276\n",
    "\n",
    "Random Forest Classifier Classification Report \n",
    "\n",
    "              precision    recall  f1-score   support\n",
    "\n",
    "         Yes       1.00      0.99      1.00     18792\n",
    "          No       0.85      0.92      0.89       592\n",
    "\n",
    "    accuracy                           0.99     19384\n",
    "   macro avg       0.92      0.96      0.94     19384\n",
    "weighted avg       0.99      0.99      0.99     19384\n",
    "\n",
    "\n",
    "Random Forest Classifier Results Tuned (100)\n",
    "\n",
    "Training Data Score: 0.9971798046498831\n",
    "Testing Data Score: 0.9920037144036319\n",
    "\n",
    "Random Forest Classifier Results Balanced \n",
    "\n",
    "Training Score Balanced: 0.9922229619016523\n",
    "Test Score Balanced: 0.954027901183428\n",
    "\n",
    "Random Forest Classifier Classification Report \n",
    "\n",
    "              precision    recall  f1-score   support\n",
    "\n",
    "         Yes       1.00      0.99      1.00     18792\n",
    "          No       0.85      0.92      0.89       592\n",
    "\n",
    "    accuracy                           0.99     19384\n",
    "   macro avg       0.92      0.96      0.94     19384\n",
    "weighted avg       0.99      0.99      0.99     19384\n"
   ]
  }
 ],
 "metadata": {
  "kernelspec": {
   "display_name": "Python 3 (ipykernel)",
   "language": "python",
   "name": "python3"
  },
  "language_info": {
   "codemirror_mode": {
    "name": "ipython",
    "version": 3
   },
   "file_extension": ".py",
   "mimetype": "text/x-python",
   "name": "python",
   "nbconvert_exporter": "python",
   "pygments_lexer": "ipython3",
   "version": "3.9.7"
  }
 },
 "nbformat": 4,
 "nbformat_minor": 4
}
